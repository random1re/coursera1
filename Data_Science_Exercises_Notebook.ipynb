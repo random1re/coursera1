{
 "cells": [
  {
   "cell_type": "markdown",
   "id": "23e2185c",
   "metadata": {},
   "source": [
    "# Data Science Exercises Notebook"
   ]
  },
  {
   "cell_type": "markdown",
   "id": "f8c66e17",
   "metadata": {},
   "source": [
    "## Introduction\n",
    "This notebook contains various exercises related to Data Science, including markdown and code cells to practice essential concepts like data science languages, libraries, tools, arithmetic expressions, and GitHub integration."
   ]
  },
  {
   "cell_type": "markdown",
   "id": "fa64b0b7",
   "metadata": {},
   "source": [
    "## Data Science Languages\n",
    "- Python\n",
    "- R\n",
    "- SQL\n",
    "- Julia\n",
    "- Java\n",
    "- Scala\n",
    "- MATLAB"
   ]
  },
  {
   "cell_type": "markdown",
   "id": "bd534309",
   "metadata": {},
   "source": [
    "## Data Science Libraries\n",
    "- Pandas\n",
    "- NumPy\n",
    "- SciPy\n",
    "- Scikit-learn\n",
    "- TensorFlow\n",
    "- PyTorch\n",
    "- Matplotlib\n",
    "- Seaborn"
   ]
  },
  {
   "cell_type": "markdown",
   "id": "efe129e2",
   "metadata": {},
   "source": [
    "## Data Science Tools\n",
    "\n",
    "| Tool           | Description                     |\n",
    "|----------------|---------------------------------|\n",
    "| Jupyter Notebook | Interactive development environment |\n",
    "| RStudio        | IDE for R programming           |\n",
    "| Apache Spark   | Distributed computing platform  |\n",
    "| Tableau        | Data visualization tool         |\n",
    "| TensorFlow     | Machine learning library        |"
   ]
  },
  {
   "cell_type": "markdown",
   "id": "5a4aeaad",
   "metadata": {},
   "source": [
    "## Arithmetic Expression Examples\n",
    "Arithmetic expressions perform mathematical operations such as addition, subtraction, multiplication, and division. Here is a basic example:\n",
    "\n",
    "- **Addition**: 3 + 5\n",
    "- **Multiplication**: 4 * 7"
   ]
  },
  {
   "cell_type": "code",
   "execution_count": null,
   "id": "9efeef1b",
   "metadata": {},
   "outputs": [],
   "source": [
    "# Multiplying and adding numbers\n",
    "result = (5 * 4) + 3\n",
    "result"
   ]
  },
  {
   "cell_type": "code",
   "execution_count": null,
   "id": "c0bb06c1",
   "metadata": {},
   "outputs": [],
   "source": [
    "# Convert minutes to hours\n",
    "minutes = 120\n",
    "hours = minutes / 60\n",
    "hours"
   ]
  },
  {
   "cell_type": "markdown",
   "id": "ac0282fa",
   "metadata": {},
   "source": [
    "## Objectives\n",
    "- Understand and use common data science languages and libraries\n",
    "- Learn about popular data science tools\n",
    "- Perform basic arithmetic operations in code\n",
    "- Convert units such as minutes to hours\n",
    "- Share the notebook through GitHub"
   ]
  },
  {
   "cell_type": "markdown",
   "id": "5aae13b1",
   "metadata": {},
   "source": [
    "## Author\n",
    "Tushar Nikose"
   ]
  },
  {
   "cell_type": "markdown",
   "id": "5a7256f6",
   "metadata": {},
   "source": [
    "## Share Notebook through GitHub\n",
    "- Save your notebook (`.ipynb` file).\n",
    "- Go to [GitHub](https://github.com/) and create a new repository.\n",
    "- Upload your `.ipynb` file to the repository.\n",
    "- Copy the repository link and share it."
   ]
  },
  {
   "cell_type": "markdown",
   "id": "d0af80ca",
   "metadata": {},
   "source": [
    "## Screenshot\n",
    "- Take a screenshot of the first page of the notebook showing the title and introduction.\n",
    "- Save it as an image (`.png` or `.jpg`) and include it in your submission."
   ]
  }
 ],
 "metadata": {},
 "nbformat": 4,
 "nbformat_minor": 5
}
